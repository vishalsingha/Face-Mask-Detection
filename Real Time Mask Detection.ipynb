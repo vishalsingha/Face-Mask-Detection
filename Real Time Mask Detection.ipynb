{
 "cells": [
  {
   "cell_type": "code",
   "execution_count": 13,
   "metadata": {},
   "outputs": [],
   "source": [
    "# import library\n",
    "import cv2\n",
    "import PIL\n",
    "import numpy as np\n",
    "from tensorflow.keras.applications.mobilenet_v2 import preprocess_input\n",
    "from tensorflow.keras.models import load_model"
   ]
  },
  {
   "cell_type": "code",
   "execution_count": 14,
   "metadata": {},
   "outputs": [],
   "source": [
    "# load haarcascade_frontalface_default\n",
    "face_cascade = cv2.CascadeClassifier(\"C:\\\\Users\\\\Vipul Singh\\\\Desktop\\\\haarcascade_frontalface_default.xml\")"
   ]
  },
  {
   "cell_type": "code",
   "execution_count": 15,
   "metadata": {},
   "outputs": [],
   "source": [
    "# load_model\n",
    "model = load_model(\"mask_detector.model\")"
   ]
  },
  {
   "cell_type": "code",
   "execution_count": null,
   "metadata": {},
   "outputs": [],
   "source": [
    "# real-time classification of face with-mask or without-mask\n",
    "cap = cv2.VideoCapture(0)\n",
    "while 1:\n",
    "    ret, img = cap.read()\n",
    "    gray = cv2.cvtColor(img, cv2.COLOR_BGR2GRAY)\n",
    "    faces = face_cascade.detectMultiScale(gray, 1.3, 5)\n",
    "    for (x, y, w, h) in faces:\n",
    "        img_ = img[y:y+h, x:x+w, :]\n",
    "        img_ = cv2.resize(img, (224, 224))\n",
    "        img_ = preprocess_input(img_)\n",
    "        label = np.argmax(model.predict(np.expand_dims(img_, axis = 0)), axis = 1)\n",
    "        label_name = \"With Mask\" if label else \"Without Mask\"\n",
    "        color = (0, 255, 0) if label else (0, 0, 255)\n",
    "        cv2.putText(img, label_name, (x, y-10), cv2.FONT_HERSHEY_SIMPLEX, 0.45, color, 2)\n",
    "        cv2.rectangle(img, (x, y), (x+w, y+h), color, 2)\n",
    "    cv2.imshow(\"Frame\", img)\n",
    "    if cv2.waitKey(30) & 0xff == ord(\"q\"):\n",
    "        break\n",
    "cv2.destroyAllWindows()"
   ]
  },
  {
   "cell_type": "code",
   "execution_count": null,
   "metadata": {},
   "outputs": [],
   "source": []
  }
 ],
 "metadata": {
  "kernelspec": {
   "display_name": "Python 3",
   "language": "python",
   "name": "python3"
  },
  "language_info": {
   "codemirror_mode": {
    "name": "ipython",
    "version": 3
   },
   "file_extension": ".py",
   "mimetype": "text/x-python",
   "name": "python",
   "nbconvert_exporter": "python",
   "pygments_lexer": "ipython3",
   "version": "3.6.10"
  }
 },
 "nbformat": 4,
 "nbformat_minor": 4
}
