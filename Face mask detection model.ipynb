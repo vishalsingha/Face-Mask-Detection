{
 "cells": [
  {
   "cell_type": "code",
   "execution_count": 1,
   "metadata": {},
   "outputs": [],
   "source": [
    "# import library\n",
    "from tensorflow.keras.preprocessing.image import ImageDataGenerator\n",
    "from tensorflow.keras.applications import MobileNetV2\n",
    "from tensorflow.keras.layers import AveragePooling2D\n",
    "from tensorflow.keras.layers import Dropout\n",
    "from tensorflow.keras.layers import Flatten\n",
    "from tensorflow.keras.layers import Dense\n",
    "from tensorflow.keras.layers import Input\n",
    "from tensorflow.keras.models import Model\n",
    "from tensorflow.keras.optimizers import Adam\n",
    "from tensorflow.keras.applications.mobilenet_v2 import preprocess_input\n",
    "from tensorflow.keras.preprocessing.image import img_to_array\n",
    "from tensorflow.keras.preprocessing.image import load_img\n",
    "from tensorflow.keras.utils import to_categorical\n",
    "from sklearn.preprocessing import LabelBinarizer\n",
    "from sklearn.model_selection import train_test_split\n",
    "from sklearn.metrics import classification_report\n",
    "from imutils import paths\n",
    "import matplotlib.pyplot as plt\n",
    "import numpy as np\n",
    "import os"
   ]
  },
  {
   "cell_type": "code",
   "execution_count": 2,
   "metadata": {},
   "outputs": [],
   "source": [
    "# directory and categries\n",
    "DIRECTORY = r\"C:\\Users\\Vipul Singh\\Desktop\\dataset\"\n",
    "CATEGORIES = {\"with_mask\":1, \"without_mask\":0}"
   ]
  },
  {
   "cell_type": "code",
   "execution_count": 3,
   "metadata": {},
   "outputs": [
    {
     "name": "stderr",
     "output_type": "stream",
     "text": [
      "c:\\users\\vipul singh\\anaconda3\\envs\\gputest\\lib\\site-packages\\PIL\\Image.py:952: UserWarning: Palette images with Transparency expressed in bytes should be converted to RGBA images\n",
      "  \"Palette images with Transparency expressed in bytes should be \"\n"
     ]
    }
   ],
   "source": [
    "# loading data from folder\n",
    "data = []\n",
    "labels = []\n",
    "for label in CATEGORIES:\n",
    "    file_path = DIRECTORY+ \"\\\\\" +label\n",
    "    for img in os.listdir(file_path):\n",
    "        img_path = os.path.join(file_path, img)\n",
    "        img = load_img(img_path, target_size = (224, 224))\n",
    "        img = img_to_array(img)\n",
    "        img = preprocess_input(img)\n",
    "        data.append(img)\n",
    "        labels.append(CATEGORIES[label])"
   ]
  },
  {
   "cell_type": "code",
   "execution_count": 4,
   "metadata": {},
   "outputs": [],
   "source": [
    "# generate one-hot vactor for labels\n",
    "labels = to_categorical(labels)\n",
    "\n",
    "# convert into array\n",
    "data = np.array(data, dtype=\"float32\")\n",
    "labels = np.array(labels)"
   ]
  },
  {
   "cell_type": "code",
   "execution_count": 5,
   "metadata": {},
   "outputs": [],
   "source": [
    "# train and validation split\n",
    "x_train, x_test, y_train, y_test = train_test_split(data, labels, test_size  = 0.20)"
   ]
  },
  {
   "cell_type": "code",
   "execution_count": 6,
   "metadata": {},
   "outputs": [],
   "source": [
    "# data augmentation\n",
    "datagen = ImageDataGenerator(width_shift_range=0.2,height_shift_range=0.2,rotation_range=20, shear_range=0.15,horizontal_flip=True, fill_mode=\"nearest\", zoom_range=0.15,)"
   ]
  },
  {
   "cell_type": "code",
   "execution_count": 7,
   "metadata": {},
   "outputs": [
    {
     "name": "stderr",
     "output_type": "stream",
     "text": [
      "c:\\users\\vipul singh\\anaconda3\\envs\\gputest\\lib\\site-packages\\keras_applications\\mobilenet_v2.py:294: UserWarning: `input_shape` is undefined or non-square, or `rows` is not in [96, 128, 160, 192, 224]. Weights for input shape (224, 224) will be loaded as the default.\n",
      "  warnings.warn('`input_shape` is undefined or non-square, '\n"
     ]
    }
   ],
   "source": [
    "# load basemodel(mobileNetv2)\n",
    "baseModel = MobileNetV2(weights=\"imagenet\", include_top=False,input_tensor=Input(shape=(224, 224, 3)))\n",
    "\n",
    "# adiing layers to base model for fine-tuning\n",
    "headModel = baseModel.output\n",
    "headModel = AveragePooling2D(pool_size=(7, 7))(headModel)\n",
    "headModel = Flatten(name=\"flatten\")(headModel)\n",
    "headModel = Dense(128, activation=\"relu\")(headModel)\n",
    "headModel = Dropout(0.5)(headModel)\n",
    "headModel = Dense(2, activation=\"softmax\")(headModel)\n",
    "\n",
    "# creating model\n",
    "model = Model(inputs=baseModel.input, outputs=headModel)"
   ]
  },
  {
   "cell_type": "code",
   "execution_count": 8,
   "metadata": {},
   "outputs": [],
   "source": [
    "# freeze layers of basemodel\n",
    "for layer in baseModel.layers:\n",
    "    layer.trainable = False"
   ]
  },
  {
   "cell_type": "code",
   "execution_count": 9,
   "metadata": {},
   "outputs": [],
   "source": [
    "EPOCHS = 20\n",
    "BS = 32\n",
    "INIT_LR = 1e-4"
   ]
  },
  {
   "cell_type": "code",
   "execution_count": 10,
   "metadata": {},
   "outputs": [],
   "source": [
    "# creating optimizer\n",
    "opt = Adam(lr=INIT_LR, decay=INIT_LR / EPOCHS)"
   ]
  },
  {
   "cell_type": "code",
   "execution_count": 11,
   "metadata": {},
   "outputs": [],
   "source": [
    "# compile model\n",
    "model.compile(loss=\"binary_crossentropy\", optimizer=opt , metrics=[\"accuracy\"])"
   ]
  },
  {
   "cell_type": "code",
   "execution_count": 12,
   "metadata": {},
   "outputs": [
    {
     "name": "stdout",
     "output_type": "stream",
     "text": [
      "Train for 95 steps, validate on 767 samples\n",
      "Epoch 1/20\n",
      "95/95 [==============================] - 42s 444ms/step - loss: 0.5322 - accuracy: 0.7446 - val_loss: 0.4343 - val_accuracy: 0.7880\n",
      "Epoch 2/20\n",
      "95/95 [==============================] - 35s 367ms/step - loss: 0.2857 - accuracy: 0.8889 - val_loss: 0.3435 - val_accuracy: 0.8397\n",
      "Epoch 3/20\n",
      "95/95 [==============================] - 34s 362ms/step - loss: 0.2204 - accuracy: 0.9140 - val_loss: 0.3010 - val_accuracy: 0.8655\n",
      "Epoch 4/20\n",
      "95/95 [==============================] - 34s 361ms/step - loss: 0.1898 - accuracy: 0.9295 - val_loss: 0.2640 - val_accuracy: 0.8832\n",
      "Epoch 5/20\n",
      "95/95 [==============================] - 34s 361ms/step - loss: 0.1594 - accuracy: 0.9420 - val_loss: 0.3365 - val_accuracy: 0.8641\n",
      "Epoch 6/20\n",
      "95/95 [==============================] - 34s 363ms/step - loss: 0.1620 - accuracy: 0.9403 - val_loss: 0.3524 - val_accuracy: 0.8587\n",
      "Epoch 7/20\n",
      "95/95 [==============================] - 34s 361ms/step - loss: 0.1397 - accuracy: 0.9502 - val_loss: 0.2676 - val_accuracy: 0.8859\n",
      "Epoch 8/20\n",
      "95/95 [==============================] - 34s 362ms/step - loss: 0.1366 - accuracy: 0.9532 - val_loss: 0.2854 - val_accuracy: 0.8927\n",
      "Epoch 9/20\n",
      "95/95 [==============================] - 34s 361ms/step - loss: 0.1145 - accuracy: 0.9598 - val_loss: 0.2858 - val_accuracy: 0.8927\n",
      "Epoch 10/20\n",
      "95/95 [==============================] - 34s 362ms/step - loss: 0.1159 - accuracy: 0.9588 - val_loss: 0.2095 - val_accuracy: 0.9076\n",
      "Epoch 11/20\n",
      "95/95 [==============================] - 34s 361ms/step - loss: 0.1105 - accuracy: 0.9624 - val_loss: 0.2119 - val_accuracy: 0.9117\n",
      "Epoch 12/20\n",
      "95/95 [==============================] - 34s 362ms/step - loss: 0.1055 - accuracy: 0.9624 - val_loss: 0.1756 - val_accuracy: 0.9226\n",
      "Epoch 13/20\n",
      "95/95 [==============================] - 34s 363ms/step - loss: 0.0895 - accuracy: 0.9693 - val_loss: 0.2223 - val_accuracy: 0.9130\n",
      "Epoch 14/20\n",
      "95/95 [==============================] - 34s 362ms/step - loss: 0.0996 - accuracy: 0.9654 - val_loss: 0.2024 - val_accuracy: 0.9198\n",
      "Epoch 15/20\n",
      "95/95 [==============================] - 34s 361ms/step - loss: 0.0950 - accuracy: 0.9654 - val_loss: 0.2235 - val_accuracy: 0.9144\n",
      "Epoch 16/20\n",
      "95/95 [==============================] - 34s 361ms/step - loss: 0.0932 - accuracy: 0.9674 - val_loss: 0.1808 - val_accuracy: 0.9198\n",
      "Epoch 17/20\n",
      "95/95 [==============================] - 34s 363ms/step - loss: 0.0922 - accuracy: 0.9687 - val_loss: 0.2157 - val_accuracy: 0.9212\n",
      "Epoch 18/20\n",
      "95/95 [==============================] - 34s 362ms/step - loss: 0.0826 - accuracy: 0.9684 - val_loss: 0.1977 - val_accuracy: 0.9239\n",
      "Epoch 19/20\n",
      "95/95 [==============================] - 35s 369ms/step - loss: 0.0848 - accuracy: 0.9651 - val_loss: 0.2591 - val_accuracy: 0.8995\n",
      "Epoch 20/20\n",
      "95/95 [==============================] - 35s 372ms/step - loss: 0.0764 - accuracy: 0.9756 - val_loss: 0.2614 - val_accuracy: 0.9062\n"
     ]
    }
   ],
   "source": [
    "# train model(fine-tuning by using data-augmentation)\n",
    "History = model.fit(datagen.flow(x_train, y_train, batch_size=BS), steps_per_epoch=len(x_train) // BS, validation_data=(x_test, y_test), validation_steps=len(x_test) // BS, epochs=EPOCHS)"
   ]
  },
  {
   "cell_type": "code",
   "execution_count": 13,
   "metadata": {},
   "outputs": [],
   "source": [
    "# predict the x_test\n",
    "y_pred = model.predict(x_test)\n",
    "y_pred = np.argmax(y_pred, axis=1)"
   ]
  },
  {
   "cell_type": "code",
   "execution_count": 14,
   "metadata": {
    "scrolled": true
   },
   "outputs": [
    {
     "name": "stdout",
     "output_type": "stream",
     "text": [
      "              precision    recall  f1-score   support\n",
      "\n",
      "   with_mask       0.85      0.99      0.91       382\n",
      "without_mask       0.99      0.83      0.90       385\n",
      "\n",
      "    accuracy                           0.91       767\n",
      "   macro avg       0.92      0.91      0.91       767\n",
      "weighted avg       0.92      0.91      0.91       767\n",
      "\n"
     ]
    }
   ],
   "source": [
    "# print classification report\n",
    "print(classification_report(y_test.argmax(axis=1), y_pred, target_names=CATEGORIES))"
   ]
  },
  {
   "cell_type": "code",
   "execution_count": 15,
   "metadata": {},
   "outputs": [],
   "source": [
    "# save the model\n",
    "model.save(\"mask_detector.model\", save_format=\"h5\")"
   ]
  },
  {
   "cell_type": "code",
   "execution_count": 16,
   "metadata": {},
   "outputs": [
    {
     "data": {
      "image/png": "[encoded data removed]",
      "text/plain": [
       "<Figure size 432x288 with 1 Axes>"
      ]
     },
     "metadata": {},
     "output_type": "display_data"
    }
   ],
   "source": [
    "# plot accuracy and loss\n",
    "N = EPOCHS\n",
    "plt.style.use(\"ggplot\")\n",
    "plt.figure()\n",
    "plt.plot(np.arange(0, N), History.history[\"loss\"], label=\"train_loss\")\n",
    "plt.plot(np.arange(0, N), History.history[\"val_loss\"], label=\"val_loss\")\n",
    "plt.plot(np.arange(0, N), History.history[\"accuracy\"], label=\"train_acc\")\n",
    "plt.plot(np.arange(0, N), History.history[\"val_accuracy\"], label=\"val_acc\")\n",
    "plt.title(\"Training Loss and Accuracy\")\n",
    "plt.xlabel(\"No of Epoch\")\n",
    "plt.ylabel(\"Loss/Accuracy\")\n",
    "plt.legend(3)\n",
    "plt.savefig(\"plot.png\")"
   ]
  }
 ],
 "metadata": {
  "kernelspec": {
   "display_name": "Python 3",
   "language": "python",
   "name": "python3"
  },
  "language_info": {
   "codemirror_mode": {
    "name": "ipython",
    "version": 3
   },
   "file_extension": ".py",
   "mimetype": "text/x-python",
   "name": "python",
   "nbconvert_exporter": "python",
   "pygments_lexer": "ipython3",
   "version": "3.6.10"
  }
 },
 "nbformat": 4,
 "nbformat_minor": 4
}
